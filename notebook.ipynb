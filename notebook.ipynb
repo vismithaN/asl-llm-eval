{
 "cells": [
  {
   "cell_type": "code",
   "execution_count": 2,
   "id": "3a1ab469",
   "metadata": {},
   "outputs": [],
   "source": [
    "import pandas as pd\n",
    "import numpy as np"
   ]
  },
  {
   "cell_type": "code",
   "execution_count": null,
   "id": "e8b85d7c",
   "metadata": {},
   "outputs": [],
   "source": [
    "import os\n",
    "from pathlib import Path\n",
    "import pandas as pd\n",
    "from typing import Dict\n",
    " \n",
    "ALPHABETS = list(\"ABCDEFGHIJKLMNOPQRSTUVWXYZ\")\n",
    "\n",
    "def count_images_per_split(dataset_dir: str) -> pd.DataFrame:\n",
    "    \"\"\"\n",
    "    Count images per ASL letter in train and test splits.\n",
    "\n",
    "    Args:\n",
    "        dataset_dir: Root dataset directory containing 'train' and 'test' subfolders.\n",
    "\n",
    "    Returns:\n",
    "        DataFrame with columns: ['Letter', 'Train', 'Test', 'Total']\n",
    "    \"\"\"\n",
    "    dataset_path = Path(dataset_dir)\n",
    "    train_path = dataset_path / 'train'\n",
    "    test_path = dataset_path / 'test'\n",
    "\n",
    "\n",
    "    def count_in_split(split_path: Path) -> Dict[str, int]:\n",
    "        counts: Dict[str, int] = {letter: 0 for letter in ALPHABETS}\n",
    "        if not split_path.exists():\n",
    "            return counts\n",
    "        for letter in ALPHABETS:\n",
    "            letter_dir = split_path / letter\n",
    "            if letter_dir.exists() and letter_dir.is_dir():\n",
    "                num_files = sum(\n",
    "                    1 for p in letter_dir.iterdir()\n",
    "                    if p.is_file() and p.suffix.lower() in {'.jpg', '.jpeg', '.png'}\n",
    "                )\n",
    "                counts[letter] = num_files\n",
    "        return counts\n",
    "\n",
    "    train_counts = count_in_split(train_path)\n",
    "    test_counts = count_in_split(test_path)\n",
    "\n",
    "    rows = []\n",
    "    for letter in ALPHABETS:\n",
    "        tr = train_counts.get(letter, 0)\n",
    "        te = test_counts.get(letter, 0)\n",
    "        rows.append({\n",
    "            'Letter': letter,\n",
    "            'Train': tr,\n",
    "            'Test': te,\n",
    "            'Total': tr + te,\n",
    "        })\n",
    "\n",
    "    df = pd.DataFrame(rows)\n",
    "    return df\n",
    "\n"
   ]
  },
  {
   "cell_type": "code",
   "execution_count": null,
   "id": "efdee600",
   "metadata": {},
   "outputs": [
    {
     "name": "stdout",
     "output_type": "stream",
     "text": [
      "   Letter  Train  Test  Total\n",
      "0       A   8458     0   8458\n",
      "1       B   8309     0   8309\n",
      "2       C   8146     0   8146\n",
      "3       D   7629     0   7629\n",
      "4       E   7744     0   7744\n",
      "5       F   8031     0   8031\n",
      "6       G   7844     0   7844\n",
      "7       H   7906     0   7906\n",
      "8       I   7953     0   7953\n",
      "9       J   7503     0   7503\n",
      "10      K   7876     0   7876\n",
      "11      L   7939     0   7939\n",
      "12      M   7900     0   7900\n",
      "13      N   7932     0   7932\n",
      "14      O   8140     0   8140\n",
      "15      P   7601     0   7601\n",
      "16      Q   7954     0   7954\n",
      "17      R   8021     0   8021\n",
      "18      S   8109     0   8109\n",
      "19      T   8054     0   8054\n",
      "20      U   8023     0   8023\n",
      "21      V   7597     0   7597\n",
      "22      W   7787     0   7787\n",
      "23      X   8093     0   8093\n",
      "24      Y   8178     0   8178\n",
      "25      Z   7410     0   7410\n"
     ]
    }
   ],
   "source": [
    "\n",
    "counts_df = count_images_per_split('ASL_Alphabet_Dataset')\n",
    "print(counts_df)\n"
   ]
  },
  {
   "cell_type": "code",
   "execution_count": null,
   "id": "f187e6be",
   "metadata": {},
   "outputs": [],
   "source": [
    "# create a dataframe with the following columns\n",
    "# base64 encoded image, label\n",
    "# we are picking 30 images from each classes with results in 30*26=780 images\n",
    "# we are using the openai api to encode the image to base64\n"
   ]
  },
  {
   "cell_type": "code",
   "execution_count": 45,
   "id": "dbf669be",
   "metadata": {},
   "outputs": [],
   "source": [
    "import base64\n",
    "from pathlib import Path\n",
    "import random\n",
    "import pandas as pd\n",
    "from typing import List\n",
    "\n",
    "DATASET_DIR = Path('./ASL_Alphabet_Dataset')  # change if needed\n",
    "LETTERS: List[str] = list('ABCDEFGHIJKLMNOPQRSTUVWXYZ')\n",
    "IMAGES_PER_CLASS = 30\n",
    "\n",
    "\n",
    "def _gather_letter_images(root: Path, letter: str, images_per_class: int = IMAGES_PER_CLASS) -> List[Path]:\n",
    "    \"\"\"Return list of image Paths for a given letter from common locations.\"\"\"\n",
    "    candidates: List[Path] = []\n",
    "\n",
    "    # train/test structure\n",
    "    split_dir = root / 'train' / letter\n",
    "    if split_dir.exists():\n",
    "        candidates.extend(\n",
    "            [p for p in split_dir.iterdir()\n",
    "                if p.is_file() and p.suffix.lower() in {'.jpg', '.jpeg', '.png'}]\n",
    "        )\n",
    "    else:\n",
    "        print(\"No directory found\",split_dir)\n",
    "    sample = random.sample(candidates, images_per_class)\n",
    "    return sample\n",
    "\n",
    "\n",
    "def encode_image(image_path):\n",
    "    with open(image_path, \"rb\") as image_file:\n",
    "        base64_image = base64.b64encode(image_file.read()).decode('utf-8')\n",
    "        return base64_image\n",
    "\n",
    "def build_base64_dataset(dataset_dir: Path = DATASET_DIR,\n",
    "                         images_per_class: int = IMAGES_PER_CLASS) -> pd.DataFrame:\n",
    "    \"\"\"\n",
    "    Build a DataFrame with columns [image_base64, label], sampling up to\n",
    "    images_per_class images per ASL letter.\n",
    "    \"\"\"\n",
    "    rows = []\n",
    "    for letter in LETTERS:\n",
    "        images = _gather_letter_images(dataset_dir, letter)\n",
    "        print(f'Found {len(images)} images for letter {letter}')\n",
    "        if not images:\n",
    "            print(f'Warning: No images found for letter {letter}')\n",
    "            continue\n",
    "\n",
    "        for file_path in images:\n",
    "            try:\n",
    "                img_b64 = encode_image(file_path)\n",
    "                rows.append({'image_base64': img_b64, 'label': letter})\n",
    "            except Exception as e:\n",
    "                print(f'Failed to encode {file_path}: {e}')\n",
    "\n",
    "    df = pd.DataFrame(rows, columns=['image_base64', 'label'])\n",
    "    print(f'Built dataset with {len(df)} rows (target ~ {images_per_class * len(LETTERS)}).')\n",
    "    return df\n",
    "\n",
    "\n"
   ]
  },
  {
   "cell_type": "code",
   "execution_count": null,
   "id": "530e3e20",
   "metadata": {},
   "outputs": [
    {
     "name": "stdout",
     "output_type": "stream",
     "text": [
      "[PosixPath('ASL_Alphabet_Dataset/train/A/A2484.jpg'), PosixPath('ASL_Alphabet_Dataset/train/A/A (3643).jpg'), PosixPath('ASL_Alphabet_Dataset/train/A/a_6_rotate_1.jpeg'), PosixPath('ASL_Alphabet_Dataset/train/A/A (3028).jpg'), PosixPath('ASL_Alphabet_Dataset/train/A/A1677.jpg')]\n",
      "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\n",
      "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\n",
      "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\n",
      "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\n",
      "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\n"
     ]
    }
   ],
   "source": [
    "# # Test the fixed function\n",
    "# test_result = _gather_letter_images(Path('ASL_Alphabet_Dataset'), 'A', 5)\n",
    "# print(test_result)\n",
    "# for file_path in test_result:\n",
    "#     try:\n",
    "#         img_b64 = encode_image(file_path)\n",
    "#         print(img_b64)\n",
    "#     except Exception as e:\n",
    "#         print(f'Failed to encode {file_path}: {e}')"
   ]
  },
  {
   "cell_type": "code",
   "execution_count": 46,
   "id": "2f2a0a57",
   "metadata": {},
   "outputs": [
    {
     "name": "stdout",
     "output_type": "stream",
     "text": [
      "Found 30 images for letter A\n",
      "Found 30 images for letter B\n",
      "Found 30 images for letter C\n",
      "Found 30 images for letter D\n",
      "Found 30 images for letter E\n",
      "Found 30 images for letter F\n",
      "Found 30 images for letter G\n",
      "Found 30 images for letter H\n",
      "Found 30 images for letter I\n",
      "Found 30 images for letter J\n",
      "Found 30 images for letter K\n",
      "Found 30 images for letter L\n",
      "Found 30 images for letter M\n",
      "Found 30 images for letter N\n",
      "Found 30 images for letter O\n",
      "Found 30 images for letter P\n",
      "Found 30 images for letter Q\n",
      "Found 30 images for letter R\n",
      "Found 30 images for letter S\n",
      "Found 30 images for letter T\n",
      "Found 30 images for letter U\n",
      "Found 30 images for letter V\n",
      "Found 30 images for letter W\n",
      "Found 30 images for letter X\n",
      "Found 30 images for letter Y\n",
      "Found 30 images for letter Z\n",
      "Built dataset with 780 rows (target ~ 780).\n"
     ]
    }
   ],
   "source": [
    "#main function\n",
    "img_df= build_base64_dataset(DATASET_DIR, IMAGES_PER_CLASS)"
   ]
  },
  {
   "cell_type": "code",
   "execution_count": 47,
   "id": "4e4ee6ed",
   "metadata": {},
   "outputs": [
    {
     "name": "stdout",
     "output_type": "stream",
     "text": [
      "shape (780, 2)\n",
      "Head                                         image_base64 label\n",
      "0  /9j/4AAQSkZJRgABAQAAAQABAAD/2wBDAAIBAQEBAQIBAQ...     A\n",
      "1  /9j/4AAQSkZJRgABAQAAAQABAAD/2wBDAAIBAQEBAQIBAQ...     A\n",
      "2  /9j/4AAQSkZJRgABAQAAAQABAAD/2wBDAAIBAQEBAQIBAQ...     A\n",
      "3  /9j/4AAQSkZJRgABAQAAAQABAAD/2wBDAAIBAQEBAQIBAQ...     A\n",
      "4  /9j/4AAQSkZJRgABAQAAAQABAAD/2wBDAAIBAQEBAQIBAQ...     A\n",
      "5  /9j/4AAQSkZJRgABAQAAAQABAAD/2wBDAAIBAQEBAQIBAQ...     A\n",
      "6  /9j/4AAQSkZJRgABAQAAAQABAAD/2wBDAAIBAQEBAQIBAQ...     A\n",
      "7  /9j/4AAQSkZJRgABAQAAAQABAAD/2wBDAAIBAQEBAQIBAQ...     A\n",
      "8  /9j/4AAQSkZJRgABAQAAAQABAAD/2wBDAAIBAQEBAQIBAQ...     A\n",
      "9  /9j/4AAQSkZJRgABAQAAAQABAAD/2wBDAAEBAQEBAQEBAQ...     A\n"
     ]
    }
   ],
   "source": [
    "#analysis of dataframe created\n",
    "print(\"shape\",img_df.shape)\n",
    "# print(\"counts\",img_df['label'].value_counts())\n",
    "print(\"Head\",img_df.head(10))"
   ]
  },
  {
   "cell_type": "code",
   "execution_count": null,
   "id": "5b56fdf9",
   "metadata": {},
   "outputs": [],
   "source": [
    "#call the OpenAI LLM to classify this image\n",
    "from openai import OpenAI\n",
    "client = OpenAI(api_key=\"\")\n",
    "\n",
    "\n",
    "\n",
    "def classification_pipeline(df: pd.DataFrame) -> pd.DataFrame:\n",
    "    predictions = []\n",
    "    prompt = create_prompt('standard')\n",
    "    # Process each image\n",
    "    for image in df['image_base64']:\n",
    "        try:\n",
    "            response = run_model(prompt, image)\n",
    "            predict = extract_letter_from_response(response)\n",
    "            predictions.append(predict)\n",
    "        except Exception as e:\n",
    "            print(f\"Error processing image: {e}\")\n",
    "            predictions.append(\"?\")  # Default for failed predictions\n",
    "    \n",
    "    # Create new DataFrame with predictions\n",
    "    new_df = df.copy()\n",
    "    new_df['prediction'] = predictions\n",
    "    \n",
    "    return new_df\n",
    "\n",
    "\n",
    "def run_model(prompt, base64_image):\n",
    "    response = client.responses.create(\n",
    "        model=\"gpt-4.1-mini\",\n",
    "        input=[\n",
    "            {\n",
    "                \"role\": \"user\",\n",
    "                \"content\": [\n",
    "                    { \"type\": \"input_text\", \"text\": prompt },\n",
    "                    {\n",
    "                        \"type\": \"input_image\",\n",
    "                        \"image_url\": f\"data:image/jpeg;base64,{base64_image}\",\n",
    "                    },\n",
    "                ],\n",
    "            }\n",
    "        ],\n",
    "    )\n",
    "    return response\n",
    "\n",
    "def extract_letter_from_response(result) -> str:\n",
    "    \"\"\"Extract single letter from LLM response\"\"\"\n",
    "    # Clean the response\n",
    "    raw_response = result.output[0].content[0].text\n",
    "    response = raw_response.strip().upper()\n",
    "    \n",
    "    # Try to find a single letter\n",
    "    import re\n",
    "    letters = re.findall(r'[A-Z]', response)\n",
    "    \n",
    "    if letters:\n",
    "        # If response is just a single letter, return it\n",
    "        if len(response) == 1 and response in LETTERS:\n",
    "            return response\n",
    "        # Otherwise, return the first letter found\n",
    "        return letters[0]\n",
    "    \n",
    "    return \"?\"  # Unknown if no letter found\n"
   ]
  },
  {
   "cell_type": "code",
   "execution_count": 53,
   "id": "cc13e13d",
   "metadata": {},
   "outputs": [
    {
     "name": "stdout",
     "output_type": "stream",
     "text": [
      "                                        image_base64 label prediction\n",
      "0  /9j/4AAQSkZJRgABAQAAAQABAAD/2wBDAAIBAQEBAQIBAQ...     A          S\n",
      "1  /9j/4AAQSkZJRgABAQAAAQABAAD/2wBDAAIBAQEBAQIBAQ...     A          A\n",
      "2  /9j/4AAQSkZJRgABAQAAAQABAAD/2wBDAAIBAQEBAQIBAQ...     A          A\n",
      "3  /9j/4AAQSkZJRgABAQAAAQABAAD/2wBDAAIBAQEBAQIBAQ...     A          A\n",
      "4  /9j/4AAQSkZJRgABAQAAAQABAAD/2wBDAAIBAQEBAQIBAQ...     A          A\n",
      "5  /9j/4AAQSkZJRgABAQAAAQABAAD/2wBDAAIBAQEBAQIBAQ...     A          S\n",
      "6  /9j/4AAQSkZJRgABAQAAAQABAAD/2wBDAAIBAQEBAQIBAQ...     A          A\n",
      "7  /9j/4AAQSkZJRgABAQAAAQABAAD/2wBDAAIBAQEBAQIBAQ...     A          A\n",
      "8  /9j/4AAQSkZJRgABAQAAAQABAAD/2wBDAAIBAQEBAQIBAQ...     A          A\n",
      "9  /9j/4AAQSkZJRgABAQAAAQABAAD/2wBDAAEBAQEBAQEBAQ...     A          A\n"
     ]
    }
   ],
   "source": [
    "#main functions\n",
    "# img_df= build_base64_dataset(DATASET_DIR, IMAGES_PER_CLASS)\n",
    "predictions = classification_pipeline(img_df)\n",
    "print(predictions.head(10))"
   ]
  },
  {
   "cell_type": "code",
   "execution_count": 30,
   "id": "625b804b",
   "metadata": {},
   "outputs": [
    {
     "name": "stdout",
     "output_type": "stream",
     "text": [
      "encoded image nan\n"
     ]
    }
   ],
   "source": [
    "#error analysis\n",
    "print(\"encoded image\",img_df['image_base64'][0])\n",
    "# response = run_model(create_prompt('standard'), img_df['image_base64'][0])\n",
    "# print(response.output_text)"
   ]
  },
  {
   "cell_type": "code",
   "execution_count": 54,
   "id": "f65c3ba9",
   "metadata": {},
   "outputs": [],
   "source": [
    "predictions.to_csv(\"predictions.csv\", index=False)"
   ]
  },
  {
   "cell_type": "code",
   "execution_count": 3,
   "id": "0ba17c50",
   "metadata": {},
   "outputs": [],
   "source": [
    "test_df = pd.read_csv('predictions.csv')"
   ]
  },
  {
   "cell_type": "code",
   "execution_count": null,
   "id": "fb7ce441",
   "metadata": {},
   "outputs": [
    {
     "name": "stdout",
     "output_type": "stream",
     "text": [
      "                                        image_base64 label prediction\n",
      "0  /9j/4AAQSkZJRgABAQAAAQABAAD/2wBDAAIBAQEBAQIBAQ...     A          S\n",
      "1  /9j/4AAQSkZJRgABAQAAAQABAAD/2wBDAAIBAQEBAQIBAQ...     A          A\n",
      "2  /9j/4AAQSkZJRgABAQAAAQABAAD/2wBDAAIBAQEBAQIBAQ...     A          A\n",
      "3  /9j/4AAQSkZJRgABAQAAAQABAAD/2wBDAAIBAQEBAQIBAQ...     A          A\n",
      "4  /9j/4AAQSkZJRgABAQAAAQABAAD/2wBDAAIBAQEBAQIBAQ...     A          A\n",
      "(780, 3)\n",
      "Index(['image_base64', 'label', 'prediction'], dtype='object')\n"
     ]
    }
   ],
   "source": [
    "print(test_df.head(5))\n",
    "print(test_df.shape)\n",
    "print(test_df.columns)\n",
    "print()"
   ]
  },
  {
   "cell_type": "code",
   "execution_count": null,
   "id": "61cb72b0",
   "metadata": {},
   "outputs": [],
   "source": []
  }
 ],
 "metadata": {
  "kernelspec": {
   "display_name": "Python 3",
   "language": "python",
   "name": "python3"
  },
  "language_info": {
   "codemirror_mode": {
    "name": "ipython",
    "version": 3
   },
   "file_extension": ".py",
   "mimetype": "text/x-python",
   "name": "python",
   "nbconvert_exporter": "python",
   "pygments_lexer": "ipython3",
   "version": "3.9.6"
  }
 },
 "nbformat": 4,
 "nbformat_minor": 5
}
